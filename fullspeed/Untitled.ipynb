{
 "cells": [
  {
   "cell_type": "code",
   "execution_count": 14,
   "id": "3b839876-bdc1-4ea2-85ee-84e30b3c057a",
   "metadata": {},
   "outputs": [
    {
     "name": "stdout",
     "output_type": "stream",
     "text": [
      "Order of the curve: 30937339651019945892244794266256713890440922455872051984762505561763526780311616863989511376879697740787911484829297\n",
      "#E == p: False\n",
      "The order is not prime (potential weakness)\n",
      "Twist order is not prime (potential twist insecurity)\n"
     ]
    }
   ],
   "source": [
    "# Define the finite field\n",
    "p = int(\"c90102faa48f18b5eac1f76bb40a1b9fb0d841712bbe3e5576a7a56976c2baeca47809765283aa078583e1e65172a3fd\", 16)\n",
    "F = GF(p)\n",
    "\n",
    "# Define the elliptic curve parameters\n",
    "a = F(int(\"a079db08ea2470350c182487b50f7707dd46a58a1d160ff79297dcc9bfad6cfc96a81c4a97564118a40331fe0fc1327f\", 16))  # coefficient a\n",
    "b = F(int(\"9f939c02a7bd7fc263a4cce416f4c575f28d0c1315c4f0c282fca6709a5f9f7f9c251c9eede9eb1baa31602167fa5380\", 16))  # coefficient b\n",
    "\n",
    "# Create the elliptic curve\n",
    "E = EllipticCurve(F, [a, b])\n",
    "\n",
    "order = E.order()\n",
    "print(f\"Order of the curve: {order}\")\n",
    "print(f\"#E == p: {E.order() == p}\")\n",
    "\n",
    "if order.is_prime():\n",
    "    print(\"The order is prime (good for security)\")\n",
    "else:\n",
    "    print(\"The order is not prime (potential weakness)\")\n",
    "\n",
    "twist = E.quadratic_twist()\n",
    "twist_order = twist.order()\n",
    "\n",
    "if twist_order.is_prime():\n",
    "    print(\"Twist order is prime (good for twist security)\")\n",
    "else:\n",
    "    print(\"Twist order is not prime (potential twist insecurity)\")"
   ]
  },
  {
   "cell_type": "code",
   "execution_count": 16,
   "id": "74b331f9-78c4-40c2-ac16-1144583a5e0a",
   "metadata": {},
   "outputs": [
    {
     "name": "stdout",
     "output_type": "stream",
     "text": [
      "Generator x 0x49fe001bbdbd3942e27885e83fe3d7cfb3a390e2190513e49c4e671d70d1ce111c88c0f1783f1e3ebed81d0addd7a75c\n",
      "Generator x 0x5a04e911a8cdc5c55485e4344282c84efe1c43b84004bd702634a6c90a0a7d77c76f133067619cb500c38bbebcfbf5a9\n"
     ]
    }
   ],
   "source": [
    "print(\"Generator x\", hex(11388440216840225867914685855101918818479484574596379294321037492678209786348438087554628192600027392965456023758684))\n",
    "print(\"Generator x\", hex(13855220083453625433835136988507326025523893392221309217843727317241632693088693242352993636002292915507051963872681))"
   ]
  },
  {
   "cell_type": "code",
   "execution_count": null,
   "id": "57fbb0d4-bb5d-4a43-9b2e-f51ab3ff82be",
   "metadata": {},
   "outputs": [],
   "source": [
    "client_gen_x = int(\"087b5fe3ae6dcfb0e074b40f6208c8f6de4f4f0679d6933796d3b9bd659704fb85452f041fff14cf0e9aa7e45544f9d8\", 16)\n",
    "client_gen_y = int(\"127425c1d330ed537663e87459eaa1b1b53edfe305f6a79b184b3180033aab190eb9aa003e02e9dbf6d593c5e3b08182\", 16)\n",
    "client_gen_p = E(client_gen_x, client_gen_y)\n",
    "print(\"Client Gen\", client_gen_x, client_gen_y)\n",
    "print(E.is_on_curve(client_gen_x, client_gen_y))\n",
    "\n",
    "client_x = int(\"195b46a760ed5a425dadcab37945867056d3e1a50124fffab78651193cea7758d4d590bed4f5f62d4a291270f1dcf499\", 16)\n",
    "client_y = int(\"357731edebf0745d081033a668b58aaa51fa0b4fc02cd64c7e8668a016f0ec1317fcac24d8ec9f3e75167077561e2a15\", 16)\n",
    "client_p = E(client_x, client_y)\n",
    "print(\"Client Point\", client_x, client_y)\n",
    "print(E.is_on_curve(client_x, client_y))\n",
    "\n",
    "print(client_p.discrete_log(client_gen_p))\n",
    "\n",
    "server_x = int(\"b3e5f89f04d49834de312110ae05f0649b3f0bbe2987304fc4ec2f46d6f036f1a897807c4e693e0bb5cd9ac8a8005f06\", 16)\n",
    "server_y = int(\"85944d98396918741316cd0109929cb706af0cca1eaf378219c5286bdc21e979210390573e3047645e1969bdbcb667eb\", 16)\n",
    "print(\"Server Point\", server_x, server_y)\n",
    "print(E.is_on_curve(server_x, server_y))"
   ]
  }
 ],
 "metadata": {
  "kernelspec": {
   "display_name": "SageMath 10.4",
   "language": "sage",
   "name": "sagemath"
  },
  "language_info": {
   "codemirror_mode": {
    "name": "ipython",
    "version": 3
   },
   "file_extension": ".py",
   "mimetype": "text/x-python",
   "name": "python",
   "nbconvert_exporter": "python",
   "pygments_lexer": "ipython3",
   "version": "3.12.6"
  }
 },
 "nbformat": 4,
 "nbformat_minor": 5
}
